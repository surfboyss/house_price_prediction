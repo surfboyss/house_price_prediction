{
 "cells": [
  {
   "cell_type": "markdown",
   "metadata": {},
   "source": [
    "### ETUDE DE CAS :\n",
    "\n",
    "# Prédiction des prix maison : \n",
    "\n",
    "### I . Importation et nettoyage rapide de la donnée \n",
    "\n",
    "on ne gardera que les valeurs numériques non nulles pour notre analyse.\n",
    "\n",
    "source DATA : \n",
    "https://www.kaggle.com/competitions/house-prices-advanced-regression-techniques/data\n"
   ]
  },
  {
   "cell_type": "code",
   "execution_count": 2,
   "metadata": {},
   "outputs": [],
   "source": [
    "import numpy as np\n",
    "import pandas as pd\n",
    "import matplotlib.pyplot as plt\n",
    "import seaborn as sns\n",
    "from matplotlib import gridspec"
   ]
  },
  {
   "cell_type": "code",
   "execution_count": 3,
   "metadata": {},
   "outputs": [],
   "source": [
    "# Charger le dataset récupérer sur Kaggle pour l'inspecter avec la librairie pandas\n",
    "data = pd.read_csv('house-prices-dataset/train.csv')"
   ]
  },
  {
   "cell_type": "code",
   "execution_count": 4,
   "metadata": {},
   "outputs": [
    {
     "data": {
      "text/html": [
       "<div>\n",
       "<style scoped>\n",
       "    .dataframe tbody tr th:only-of-type {\n",
       "        vertical-align: middle;\n",
       "    }\n",
       "\n",
       "    .dataframe tbody tr th {\n",
       "        vertical-align: top;\n",
       "    }\n",
       "\n",
       "    .dataframe thead th {\n",
       "        text-align: right;\n",
       "    }\n",
       "</style>\n",
       "<table border=\"1\" class=\"dataframe\">\n",
       "  <thead>\n",
       "    <tr style=\"text-align: right;\">\n",
       "      <th></th>\n",
       "      <th>Id</th>\n",
       "      <th>MSSubClass</th>\n",
       "      <th>MSZoning</th>\n",
       "      <th>LotFrontage</th>\n",
       "      <th>LotArea</th>\n",
       "      <th>Street</th>\n",
       "      <th>Alley</th>\n",
       "      <th>LotShape</th>\n",
       "      <th>LandContour</th>\n",
       "      <th>Utilities</th>\n",
       "      <th>...</th>\n",
       "      <th>PoolArea</th>\n",
       "      <th>PoolQC</th>\n",
       "      <th>Fence</th>\n",
       "      <th>MiscFeature</th>\n",
       "      <th>MiscVal</th>\n",
       "      <th>MoSold</th>\n",
       "      <th>YrSold</th>\n",
       "      <th>SaleType</th>\n",
       "      <th>SaleCondition</th>\n",
       "      <th>SalePrice</th>\n",
       "    </tr>\n",
       "  </thead>\n",
       "  <tbody>\n",
       "    <tr>\n",
       "      <th>0</th>\n",
       "      <td>1</td>\n",
       "      <td>60</td>\n",
       "      <td>RL</td>\n",
       "      <td>65.0</td>\n",
       "      <td>8450</td>\n",
       "      <td>Pave</td>\n",
       "      <td>NaN</td>\n",
       "      <td>Reg</td>\n",
       "      <td>Lvl</td>\n",
       "      <td>AllPub</td>\n",
       "      <td>...</td>\n",
       "      <td>0</td>\n",
       "      <td>NaN</td>\n",
       "      <td>NaN</td>\n",
       "      <td>NaN</td>\n",
       "      <td>0</td>\n",
       "      <td>2</td>\n",
       "      <td>2008</td>\n",
       "      <td>WD</td>\n",
       "      <td>Normal</td>\n",
       "      <td>208500</td>\n",
       "    </tr>\n",
       "    <tr>\n",
       "      <th>1</th>\n",
       "      <td>2</td>\n",
       "      <td>20</td>\n",
       "      <td>RL</td>\n",
       "      <td>80.0</td>\n",
       "      <td>9600</td>\n",
       "      <td>Pave</td>\n",
       "      <td>NaN</td>\n",
       "      <td>Reg</td>\n",
       "      <td>Lvl</td>\n",
       "      <td>AllPub</td>\n",
       "      <td>...</td>\n",
       "      <td>0</td>\n",
       "      <td>NaN</td>\n",
       "      <td>NaN</td>\n",
       "      <td>NaN</td>\n",
       "      <td>0</td>\n",
       "      <td>5</td>\n",
       "      <td>2007</td>\n",
       "      <td>WD</td>\n",
       "      <td>Normal</td>\n",
       "      <td>181500</td>\n",
       "    </tr>\n",
       "    <tr>\n",
       "      <th>2</th>\n",
       "      <td>3</td>\n",
       "      <td>60</td>\n",
       "      <td>RL</td>\n",
       "      <td>68.0</td>\n",
       "      <td>11250</td>\n",
       "      <td>Pave</td>\n",
       "      <td>NaN</td>\n",
       "      <td>IR1</td>\n",
       "      <td>Lvl</td>\n",
       "      <td>AllPub</td>\n",
       "      <td>...</td>\n",
       "      <td>0</td>\n",
       "      <td>NaN</td>\n",
       "      <td>NaN</td>\n",
       "      <td>NaN</td>\n",
       "      <td>0</td>\n",
       "      <td>9</td>\n",
       "      <td>2008</td>\n",
       "      <td>WD</td>\n",
       "      <td>Normal</td>\n",
       "      <td>223500</td>\n",
       "    </tr>\n",
       "    <tr>\n",
       "      <th>3</th>\n",
       "      <td>4</td>\n",
       "      <td>70</td>\n",
       "      <td>RL</td>\n",
       "      <td>60.0</td>\n",
       "      <td>9550</td>\n",
       "      <td>Pave</td>\n",
       "      <td>NaN</td>\n",
       "      <td>IR1</td>\n",
       "      <td>Lvl</td>\n",
       "      <td>AllPub</td>\n",
       "      <td>...</td>\n",
       "      <td>0</td>\n",
       "      <td>NaN</td>\n",
       "      <td>NaN</td>\n",
       "      <td>NaN</td>\n",
       "      <td>0</td>\n",
       "      <td>2</td>\n",
       "      <td>2006</td>\n",
       "      <td>WD</td>\n",
       "      <td>Abnorml</td>\n",
       "      <td>140000</td>\n",
       "    </tr>\n",
       "    <tr>\n",
       "      <th>4</th>\n",
       "      <td>5</td>\n",
       "      <td>60</td>\n",
       "      <td>RL</td>\n",
       "      <td>84.0</td>\n",
       "      <td>14260</td>\n",
       "      <td>Pave</td>\n",
       "      <td>NaN</td>\n",
       "      <td>IR1</td>\n",
       "      <td>Lvl</td>\n",
       "      <td>AllPub</td>\n",
       "      <td>...</td>\n",
       "      <td>0</td>\n",
       "      <td>NaN</td>\n",
       "      <td>NaN</td>\n",
       "      <td>NaN</td>\n",
       "      <td>0</td>\n",
       "      <td>12</td>\n",
       "      <td>2008</td>\n",
       "      <td>WD</td>\n",
       "      <td>Normal</td>\n",
       "      <td>250000</td>\n",
       "    </tr>\n",
       "  </tbody>\n",
       "</table>\n",
       "<p>5 rows × 81 columns</p>\n",
       "</div>"
      ],
      "text/plain": [
       "   Id  MSSubClass MSZoning  LotFrontage  LotArea Street Alley LotShape  \\\n",
       "0   1          60       RL         65.0     8450   Pave   NaN      Reg   \n",
       "1   2          20       RL         80.0     9600   Pave   NaN      Reg   \n",
       "2   3          60       RL         68.0    11250   Pave   NaN      IR1   \n",
       "3   4          70       RL         60.0     9550   Pave   NaN      IR1   \n",
       "4   5          60       RL         84.0    14260   Pave   NaN      IR1   \n",
       "\n",
       "  LandContour Utilities  ... PoolArea PoolQC Fence MiscFeature MiscVal MoSold  \\\n",
       "0         Lvl    AllPub  ...        0    NaN   NaN         NaN       0      2   \n",
       "1         Lvl    AllPub  ...        0    NaN   NaN         NaN       0      5   \n",
       "2         Lvl    AllPub  ...        0    NaN   NaN         NaN       0      9   \n",
       "3         Lvl    AllPub  ...        0    NaN   NaN         NaN       0      2   \n",
       "4         Lvl    AllPub  ...        0    NaN   NaN         NaN       0     12   \n",
       "\n",
       "  YrSold  SaleType  SaleCondition  SalePrice  \n",
       "0   2008        WD         Normal     208500  \n",
       "1   2007        WD         Normal     181500  \n",
       "2   2008        WD         Normal     223500  \n",
       "3   2006        WD        Abnorml     140000  \n",
       "4   2008        WD         Normal     250000  \n",
       "\n",
       "[5 rows x 81 columns]"
      ]
     },
     "execution_count": 4,
     "metadata": {},
     "output_type": "execute_result"
    }
   ],
   "source": [
    "# data exploration, \n",
    "# premier \n",
    "# regard de la donnée, à quoi elle ressemble\n",
    "data.head()"
   ]
  },
  {
   "cell_type": "markdown",
   "metadata": {},
   "source": [
    "Dans cette étape, nous procédons au nettoyage de notre dataset en ne conservant que les colonnes numériques qui ne contiennent aucune valeur nulle. Cela nous permet de travailler avec un ensemble de données propre et sans lacunes, facilitant ainsi les analyses statistiques et les modélisations ultérieures. Voici comment nous effectuons ce nettoyage :\n",
    "\n",
    "    Nous sélectionnons d'abord toutes les colonnes numériques du dataset.\n",
    "    Ensuite, nous filtrons ces colonnes pour ne conserver que celles qui ne contiennent aucune valeur nulle.\n",
    "\n",
    "Ce processus assure que notre dataset est exempt de valeurs manquantes dans les colonnes numériques, ce qui est crucial pour garantir la fiabilité de nos analyses."
   ]
  },
  {
   "cell_type": "code",
   "execution_count": 5,
   "metadata": {},
   "outputs": [
    {
     "name": "stdout",
     "output_type": "stream",
     "text": [
      " les colonnes du dataset : ['Id' 'MSSubClass' 'LotFrontage' 'LotArea' 'OverallQual' 'OverallCond'\n",
      " 'YearBuilt' 'YearRemodAdd' 'MasVnrArea' 'BsmtFinSF1' 'BsmtFinSF2'\n",
      " 'BsmtUnfSF' 'TotalBsmtSF' '1stFlrSF' '2ndFlrSF' 'LowQualFinSF'\n",
      " 'GrLivArea' 'BsmtFullBath' 'BsmtHalfBath' 'FullBath' 'HalfBath'\n",
      " 'BedroomAbvGr' 'KitchenAbvGr' 'TotRmsAbvGrd' 'Fireplaces' 'GarageYrBlt'\n",
      " 'GarageCars' 'GarageArea' 'WoodDeckSF' 'OpenPorchSF' 'EnclosedPorch'\n",
      " '3SsnPorch' 'ScreenPorch' 'PoolArea' 'MiscVal' 'MoSold' 'YrSold'\n",
      " 'SalePrice']\n",
      "   MSSubClass  LotArea  OverallQual  OverallCond  YearBuilt  YearRemodAdd  \\\n",
      "0          60     8450            7            5       2003          2003   \n",
      "1          20     9600            6            8       1976          1976   \n",
      "2          60    11250            7            5       2001          2002   \n",
      "3          70     9550            7            5       1915          1970   \n",
      "4          60    14260            8            5       2000          2000   \n",
      "\n",
      "   BsmtFinSF1  BsmtFinSF2  BsmtUnfSF  TotalBsmtSF  ...  WoodDeckSF  \\\n",
      "0         706           0        150          856  ...           0   \n",
      "1         978           0        284         1262  ...         298   \n",
      "2         486           0        434          920  ...           0   \n",
      "3         216           0        540          756  ...           0   \n",
      "4         655           0        490         1145  ...         192   \n",
      "\n",
      "   OpenPorchSF  EnclosedPorch  3SsnPorch  ScreenPorch  PoolArea  MiscVal  \\\n",
      "0           61              0          0            0         0        0   \n",
      "1            0              0          0            0         0        0   \n",
      "2           42              0          0            0         0        0   \n",
      "3           35            272          0            0         0        0   \n",
      "4           84              0          0            0         0        0   \n",
      "\n",
      "   MoSold  YrSold  SalePrice  \n",
      "0       2    2008     208500  \n",
      "1       5    2007     181500  \n",
      "2       9    2008     223500  \n",
      "3       2    2006     140000  \n",
      "4      12    2008     250000  \n",
      "\n",
      "[5 rows x 34 columns]\n"
     ]
    }
   ],
   "source": [
    "\n",
    "# Sélectionner uniquement les colonnes numériques\n",
    "numeric_data_cols = data.select_dtypes(include=[np.number])\n",
    "\n",
    "# Filtrer les colonnes qui ne contiennent pas de valeurs nulles\n",
    "numeric_cols_no_nulls = numeric_data_cols.dropna(axis=1)\n",
    "\n",
    "print(f' les colonnes du dataset : {numeric_data_cols.columns.values}')\n",
    "\n",
    "numeric_cols_no_nulls = numeric_cols_no_nulls.drop(columns=['Id'])\n",
    "\n",
    "# Afficher les premières lignes du nouveau DataFrame pour vérifier\n",
    "print(numeric_cols_no_nulls.head())"
   ]
  },
  {
   "cell_type": "markdown",
   "metadata": {},
   "source": [
    "### II - Regression linéaire simple : \n",
    "\n",
    "On va essayer d'établir les différentes étapes d'une regression linéaire entre l'inférence, la fonction coût, la descente de gradient et l'algo d'entrainement.\n",
    "\n",
    "#### 1 . Modèle linéaire : \n",
    "\n",
    "On implémente un modèle simple \n",
    " $F = X.\\theta$.\n"
   ]
  },
  {
   "cell_type": "code",
   "execution_count": 6,
   "metadata": {},
   "outputs": [],
   "source": [
    "def model(X, theta):\n",
    "    return X.dot(theta)\n"
   ]
  },
  {
   "cell_type": "markdown",
   "metadata": {},
   "source": [
    "#### 2. Fonction Coût \n",
    " \n",
    " On part sur une fonction coût basique qui a fait ses preuves et qui est largement utilisée :\n",
    " \n",
    "-   **MSE** : Mean Squared Error  :\n",
    "\n",
    "${MSE} = \\frac{1}{n} \\sum_{i=1}^{n} (y_i - \\hat{y}_i)^2$.\n"
   ]
  },
  {
   "cell_type": "code",
   "execution_count": 7,
   "metadata": {},
   "outputs": [],
   "source": [
    "def cost_function(X, y, theta):\n",
    "    m = len(y)\n",
    "    return 1/(2*m) * np.sum((model(X, theta) - y)**2)"
   ]
  },
  {
   "cell_type": "markdown",
   "metadata": {},
   "source": [
    "3. Gradient et Descente de Gradient\n",
    "\n",
    "Le gradient est calculé pour la fonction coût qu'on a défini plus haut.\n",
    "\n",
    "ainsi cela donne \n",
    "$\\frac{\\partial J(\\theta) }{\\partial \\theta} = \\frac{1}{m} X^T.(X.\\theta - y)$\n",
    "\n",
    "la desente de gradient se fait alors en mettant à jour les paramètres du modèle en soustrayant la valeur du gradient.\n",
    "$\\theta = \\theta-\\alpha  \\frac{\\partial J(\\theta) }{\\partial \\theta}$"
   ]
  },
  {
   "cell_type": "code",
   "execution_count": 8,
   "metadata": {},
   "outputs": [],
   "source": [
    "def grad(X, y, theta):\n",
    "    m = len(y)\n",
    "    return 1/m * X.T.dot(model(X, theta) - y)\n"
   ]
  },
  {
   "cell_type": "code",
   "execution_count": 9,
   "metadata": {},
   "outputs": [],
   "source": [
    "def gradient_descent(X, y, theta, learning_rate, n_iterations):\n",
    "    \n",
    "    cost_history = np.zeros(n_iterations) # on log les coùts par itération pour voir l'évolution.\n",
    "    \n",
    "    for i in range(0, n_iterations):\n",
    "        theta = theta - learning_rate * grad(X, y, theta) # mise a jour du parametre theta (formule du gradient descent)\n",
    "        cost_history[i] = cost_function(X, y, theta) # on enregistre la valeur du Cout au tour i dans cost_history[i]\n",
    "        \n",
    "    return theta, cost_history\n"
   ]
  },
  {
   "cell_type": "markdown",
   "metadata": {},
   "source": [
    "### III -  Application à notre cas pratique\n",
    "\n",
    "#### 1 - Initialisation :  "
   ]
  },
  {
   "cell_type": "code",
   "execution_count": 10,
   "metadata": {},
   "outputs": [],
   "source": [
    "# Sélectionner les features \n",
    "x = numeric_cols_no_nulls.iloc[:, :-1].values\n",
    "\n",
    "# Sélectionner la target colonne 'SalePrice' \n",
    "y = numeric_cols_no_nulls['SalePrice'].values"
   ]
  },
  {
   "cell_type": "code",
   "execution_count": 11,
   "metadata": {},
   "outputs": [],
   "source": [
    "from sklearn.preprocessing import StandardScaler\n",
    "\n",
    "# Normaliser les features\n",
    "scaler = StandardScaler()\n",
    "x_normalized = scaler.fit_transform(x)\n"
   ]
  },
  {
   "cell_type": "code",
   "execution_count": 12,
   "metadata": {},
   "outputs": [
    {
     "name": "stdout",
     "output_type": "stream",
     "text": [
      "(1460, 33)\n",
      "(1460,)\n",
      "(1460, 1)\n"
     ]
    }
   ],
   "source": [
    "# Verification des dimensions\n",
    "print(x_normalized.shape)\n",
    "print(y.shape)\n",
    "\n",
    "# redimensionner y\n",
    "y = y.reshape(y.shape[0], 1)\n",
    "print(y.shape)\n"
   ]
  },
  {
   "cell_type": "code",
   "execution_count": 13,
   "metadata": {},
   "outputs": [],
   "source": [
    "# Création de la matrice X, en incluant le Biais\n",
    "X = np.hstack((x_normalized, np.ones((x.shape[0], 1)))) # ajoute un vecteur Biais de dimension (x.shape[0], 1)\n",
    "\n",
    "# Initialisation du vecteur theta aléatoire, avec 3 éléments (car X a trois colonnes)\n",
    "theta = np.random.randn(x.shape[1]+1, 1)\n"
   ]
  },
  {
   "cell_type": "markdown",
   "metadata": {},
   "source": [
    "#### 2 - phase d'entraînement : "
   ]
  },
  {
   "cell_type": "code",
   "execution_count": 14,
   "metadata": {},
   "outputs": [],
   "source": [
    "n_iterations = 1000\n",
    "learning_rate = 0.01\n",
    "\n",
    "theta_final, cost_history = gradient_descent(X, y, theta, learning_rate, n_iterations)"
   ]
  },
  {
   "cell_type": "code",
   "execution_count": 16,
   "metadata": {},
   "outputs": [
    {
     "data": {
      "text/plain": [
       "array([[-6.54140273e+03],\n",
       "       [ 3.88762957e+03],\n",
       "       [ 2.44120104e+04],\n",
       "       [ 4.48029730e+03],\n",
       "       [ 8.97052042e+03],\n",
       "       [ 3.60408539e+03],\n",
       "       [ 5.27711921e+03],\n",
       "       [-5.13141690e+02],\n",
       "       [ 2.13164170e+01],\n",
       "       [ 5.32148793e+03],\n",
       "       [ 8.17224660e+03],\n",
       "       [ 9.17227488e+03],\n",
       "       [-1.66862774e+02],\n",
       "       [ 1.36168759e+04],\n",
       "       [ 4.25354699e+03],\n",
       "       [ 5.16951359e+02],\n",
       "       [ 3.04206330e+03],\n",
       "       [ 1.83228503e+02],\n",
       "       [-8.16390038e+03],\n",
       "       [-3.13142635e+03],\n",
       "       [ 8.50374586e+03],\n",
       "       [ 2.69524790e+03],\n",
       "       [ 6.63353006e+03],\n",
       "       [ 1.99949500e+03],\n",
       "       [ 3.33723213e+03],\n",
       "       [-4.69213102e+02],\n",
       "       [ 3.95803194e+02],\n",
       "       [ 5.55501801e+02],\n",
       "       [ 3.16116094e+03],\n",
       "       [-1.67780913e+03],\n",
       "       [-4.35868129e+02],\n",
       "       [-2.58731781e+02],\n",
       "       [-1.02728369e+03],\n",
       "       [ 1.80913385e+05]])"
      ]
     },
     "execution_count": 16,
     "metadata": {},
     "output_type": "execute_result"
    }
   ],
   "source": [
    "# création d'un vecteur prédictions qui contient les prédictions de notre modele final\n",
    "predictions = model(X, theta_final)\n",
    "\n",
    "theta_final\n"
   ]
  },
  {
   "cell_type": "markdown",
   "metadata": {},
   "source": [
    "#### 3. Courbe d'apprentissage "
   ]
  },
  {
   "cell_type": "code",
   "execution_count": 17,
   "metadata": {},
   "outputs": [
    {
     "data": {
      "text/plain": [
       "[<matplotlib.lines.Line2D at 0x1616e1950>]"
      ]
     },
     "execution_count": 17,
     "metadata": {},
     "output_type": "execute_result"
    },
    {
     "data": {
      "image/png": "[encoded data removed]",
      "text/plain": [
       "<Figure size 640x480 with 1 Axes>"
      ]
     },
     "metadata": {},
     "output_type": "display_data"
    }
   ],
   "source": [
    "plt.plot(range(n_iterations), cost_history)"
   ]
  },
  {
   "cell_type": "markdown",
   "metadata": {},
   "source": [
    "\n",
    "### 4. Evaluation du modèle : métrique R²\n",
    "\n",
    "\n",
    "L'évaluation de la performance d'un modèle de régression est cruciale pour comprendre à quel point le modèle explique la variabilité des données. L'un des indicateurs les plus utilisés pour cette tâche est le coefficient de détermination, communément appelé R². \n",
    "\n",
    "Ce coefficient mesure la proportion de la variance totale de la variable dépendante qui est expliquée par le modèle.\n",
    "\n",
    "$R^2 = 1 - \\frac{\\sum_{i=1}^{n} (y_i - \\hat{y}_i)^2}{\\sum_{i=1}^{n} (y_i - \\bar{y})^2}$\n"
   ]
  },
  {
   "cell_type": "code",
   "execution_count": 19,
   "metadata": {},
   "outputs": [
    {
     "data": {
      "text/plain": [
       "np.float64(0.8086353884070904)"
      ]
     },
     "execution_count": 19,
     "metadata": {},
     "output_type": "execute_result"
    }
   ],
   "source": [
    "def coef_determination(y, pred):\n",
    "    u = ((y - pred)**2).sum()\n",
    "    v = ((y - y.mean())**2).sum()\n",
    "    return 1 - u/v\n",
    "\n",
    "\n",
    "coef_determination(y, predictions)\n"
   ]
  },
  {
   "cell_type": "code",
   "execution_count": null,
   "metadata": {},
   "outputs": [],
   "source": []
  }
 ],
 "metadata": {
  "kernelspec": {
   "display_name": "Python 3",
   "language": "python",
   "name": "python3"
  },
  "language_info": {
   "codemirror_mode": {
    "name": "ipython",
    "version": 3
   },
   "file_extension": ".py",
   "mimetype": "text/x-python",
   "name": "python",
   "nbconvert_exporter": "python",
   "pygments_lexer": "ipython3",
   "version": "3.11.1"
  }
 },
 "nbformat": 4,
 "nbformat_minor": 2
}
